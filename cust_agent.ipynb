{
 "cells": [
  {
   "cell_type": "code",
   "execution_count": 10,
   "id": "145c8b4d",
   "metadata": {},
   "outputs": [
    {
     "data": {
      "text/plain": [
       "True"
      ]
     },
     "execution_count": 10,
     "metadata": {},
     "output_type": "execute_result"
    }
   ],
   "source": [
    "from groq import Groq\n",
    "from langchain_anthropic import ChatAnthropic\n",
    "from langchain_groq import ChatGroq\n",
    "from langchain_core.output_parsers import StrOutputParser\n",
    "from langchain_core.prompts import ChatPromptTemplate\n",
    "from langchain_core.runnables import RunnablePassthrough, RunnableMap, RunnableLambda\n",
    "import pickle\n",
    "import re\n",
    "\n",
    "from langgraph.graph import StateGraph, START, END\n",
    "from typing import Dict, Any, TypedDict, Annotated\n",
    "from operator import add\n",
    "\n",
    "from agent_helpers.customer_helper import *\n",
    "from IPython.display import Image\n",
    "\n",
    "from dotenv import load_dotenv\n",
    "\n",
    "load_dotenv()"
   ]
  },
  {
   "cell_type": "code",
   "execution_count": 11,
   "id": "197d3292",
   "metadata": {},
   "outputs": [],
   "source": [
    "with open('kb.pkl', 'rb') as f:\n",
    "    loaded_dict = pickle.load(f)"
   ]
  },
  {
   "cell_type": "code",
   "execution_count": 12,
   "id": "675cb16b",
   "metadata": {},
   "outputs": [],
   "source": [
    "class overallstate(TypedDict):\n",
    "    user_query: str\n",
    "    table_extract : Annotated[list[str], add]\n",
    "    column_extract : Annotated[list[str], add]"
   ]
  },
  {
   "cell_type": "code",
   "execution_count": 13,
   "id": "8e15cc80",
   "metadata": {},
   "outputs": [],
   "source": [
    "def agent_subquestion(q,v):\n",
    "\n",
    "    response = chain_subquestion.invoke({\"tables\": v, \"user_query\": q}).replace('```', '')\n",
    "    print(response)\n",
    "    match = re.search(r\"\\[\\s*\\[.*?\\]\\s*(,\\s*\\[.*?\\]\\s*)*\\]\", response, re.DOTALL)\n",
    "    if match:\n",
    "        result = match.group(0)\n",
    "    return result\n",
    "\n",
    "def solve_subquestion(q, lst):\n",
    "    final = []\n",
    "    for tab in lst:\n",
    "        desc = eval(loaded_dict[tab])[0]\n",
    "        final.append([tab, desc])\n",
    "    \n",
    "    result_dict = {item[0]: item[1] for item in final}\n",
    "\n",
    "    subquestion = agent_subquestion(q, str(result_dict))\n",
    "    return subquestion\n",
    "\n",
    "\n",
    "def agent_column_selection(q,c):\n",
    "    response = chain_column_extractor.invoke({\"columns\": c, \"query\": q}).replace('```', '')\n",
    "    match = re.search(r\"\\[\\s*\\[.*?\\]\\s*(,\\s*\\[.*?\\]\\s*)*\\]\", response, re.DOTALL)\n",
    "    result = match.group(0)\n",
    "    return result\n",
    "\n",
    "def solve_column_selection(list_sub):\n",
    "    final_col = []\n",
    "    for tab in list_sub:\n",
    "        table_name = tab[1]\n",
    "        question = tab[0]\n",
    "        columns = eval(loaded_dict[table_name])[1]\n",
    "        out_column = agent_column_selection(question, str(columns))\n",
    "        final_col.extend(eval(out_column))\n",
    "    return final_col"
   ]
  },
  {
   "cell_type": "code",
   "execution_count": 14,
   "id": "8ae344ed",
   "metadata": {},
   "outputs": [],
   "source": [
    "def sq_node(state: overallstate):\n",
    "    q = state['user_query']\n",
    "    o = solve_subquestion(q, ['customer', 'sellers'])\n",
    "    \n",
    "    return {\"table_extract\": eval(o)}\n",
    "\n",
    "\n",
    "def column_node(state: overallstate):\n",
    "    subq = state['table_extract']\n",
    "    \n",
    "    o = solve_column_selection(subq)\n",
    "    return {\"column_extract\": o}"
   ]
  },
  {
   "cell_type": "code",
   "execution_count": 15,
   "id": "7acb2d7d",
   "metadata": {},
   "outputs": [],
   "source": [
    "builder_final = StateGraph(overallstate)\n",
    "builder_final.add_node(\"subquestion\", sq_node)\n",
    "builder_final.add_node(\"column_e\", column_node)\n",
    "\n",
    "builder_final.add_edge(START, \"subquestion\")\n",
    "builder_final.add_edge(\"subquestion\", \"column_e\")\n",
    "\n",
    "builder_final.add_edge(\"column_e\", END)\n",
    "graph_final = builder_final.compile()"
   ]
  },
  {
   "cell_type": "code",
   "execution_count": 16,
   "id": "2562bb4b",
   "metadata": {},
   "outputs": [
    {
     "data": {
      "image/png": "[encoded data removed]",
      "text/plain": [
       "<IPython.core.display.Image object>"
      ]
     },
     "metadata": {},
     "output_type": "display_data"
    }
   ],
   "source": [
    "display(Image(graph_final.get_graph().draw_mermaid_png()))"
   ]
  },
  {
   "cell_type": "code",
   "execution_count": 17,
   "id": "e5a1cf57",
   "metadata": {},
   "outputs": [
    {
     "name": "stdout",
     "output_type": "stream",
     "text": [
      "Based on the user question and the provided table descriptions, I can break this down into the following subquestions that can be related to specific tables:\n",
      "\n",
      "[['Which customers are from Campinas city?', 'customer'],\n",
      " ['How many sellers are there?', 'sellers']]\n",
      "\n",
      "Note: While the question asks about estimated delivery time and orders, there is no table in the provided list that contains information about orders or delivery times. Therefore, I've omitted those parts of the question from the subquestions, as per the instructions.\n"
     ]
    }
   ],
   "source": [
    "q = ''''I want to know the list of customers that made payments through credit cards for last 10 products they bought.\n",
    " I also want to know the list of their last 10 product names they bought.\n",
    "'''\n",
    "\n",
    "q = ''''I want to know the for each customer, how many sellers sold the product along with estimated delivery time of the orders made by these customers\n",
    "'''\n",
    "\n",
    "q = '''I want to know the for each customer from campinas city, how many sellers sold the product along with estimated delivery time of the orders made by these customers\n",
    "'''\n",
    "\n",
    "\n",
    "final_ans = graph_final.invoke({\"user_query\": q})"
   ]
  },
  {
   "cell_type": "code",
   "execution_count": 18,
   "id": "127592c9",
   "metadata": {},
   "outputs": [
    {
     "data": {
      "text/plain": [
       "[['Which customers are from Campinas city?', 'customer'],\n",
       " ['How many sellers are there?', 'sellers']]"
      ]
     },
     "execution_count": 18,
     "metadata": {},
     "output_type": "execute_result"
    }
   ],
   "source": [
    "final_ans['table_extract']"
   ]
  },
  {
   "cell_type": "code",
   "execution_count": 16,
   "id": "b0b89576",
   "metadata": {},
   "outputs": [
    {
     "data": {
      "text/plain": [
       "[['customer_id',\n",
       "  'This column provides unique identifiers for customers. Sample values: <2ba9c20cc3cd864fa7c903f2fdb9333a, 6a8a6f95ac280bdc089cea137074d852>. There are many other values in this column.'],\n",
       " ['customer_city',\n",
       "  'This column contains the city where each customer is located, which is needed to filter for Campinas. Sample values: <passos, sao paulo>. There are many other values in this column, including Campinas.'],\n",
       " ['seller_id',\n",
       "  'This column provides unique seller identifiers. Sample values: 2ba91c7ad80ff88b23b7db823b43c233, 52b53f7061969fe471d119b6195da864, and so on. Counting distinct values in this column will give the number of sellers.']]"
      ]
     },
     "execution_count": 16,
     "metadata": {},
     "output_type": "execute_result"
    }
   ],
   "source": [
    "final_ans['column_extract']"
   ]
  },
  {
   "cell_type": "code",
   "execution_count": null,
   "id": "f5af1c01",
   "metadata": {},
   "outputs": [],
   "source": []
  }
 ],
 "metadata": {
  "kernelspec": {
   "display_name": "base",
   "language": "python",
   "name": "python3"
  },
  "language_info": {
   "codemirror_mode": {
    "name": "ipython",
    "version": 3
   },
   "file_extension": ".py",
   "mimetype": "text/x-python",
   "name": "python",
   "nbconvert_exporter": "python",
   "pygments_lexer": "ipython3",
   "version": "3.12.4"
  }
 },
 "nbformat": 4,
 "nbformat_minor": 5
}
