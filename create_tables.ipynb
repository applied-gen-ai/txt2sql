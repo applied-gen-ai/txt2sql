{
 "cells": [
  {
   "cell_type": "code",
   "execution_count": null,
   "id": "7dcd4f0a",
   "metadata": {},
   "outputs": [
    {
     "name": "stdout",
     "output_type": "stream",
     "text": [
      "Connected to MySQL\n",
      "Database 'my_new_db' created successfully!\n"
     ]
    }
   ],
   "source": [
    "import mysql.connector\n",
    "\n",
    "# Connect to MySQL Server\n",
    "connection = mysql.connector.connect(\n",
    "    host=\"localhost\",\n",
    "    user=\"root\",\n",
    "    password=\"<password>\"\n",
    ")\n",
    "\n",
    "print(\"Connected to MySQL\")\n",
    "\n",
    "'''# Create a cursor to execute SQL commands\n",
    "cursor = connection.cursor()\n",
    "\n",
    "# Replace 'my_new_db' with your desired database name\n",
    "cursor.execute(\"CREATE DATABASE txt2sql\")\n",
    "\n",
    "print(\"Database 'my_new_db' created successfully!\")'''"
   ]
  },
  {
   "cell_type": "markdown",
   "id": "d0a88e28",
   "metadata": {},
   "source": [
    "### Downloads dataset from kaggle\n",
    "- Soon after it downloads pull the files to current folder"
   ]
  },
  {
   "cell_type": "code",
   "execution_count": null,
   "id": "4a7a76ee",
   "metadata": {},
   "outputs": [
    {
     "name": "stdout",
     "output_type": "stream",
     "text": [
      "Downloading from https://www.kaggle.com/api/v1/datasets/download/olistbr/brazilian-ecommerce?dataset_version_number=2...\n"
     ]
    },
    {
     "name": "stderr",
     "output_type": "stream",
     "text": [
      "100%|██████████| 42.6M/42.6M [00:06<00:00, 7.37MB/s]"
     ]
    },
    {
     "name": "stdout",
     "output_type": "stream",
     "text": [
      "Extracting files...\n"
     ]
    },
    {
     "name": "stderr",
     "output_type": "stream",
     "text": [
      "\n"
     ]
    },
    {
     "name": "stdout",
     "output_type": "stream",
     "text": [
      "Path to dataset files: C:\\Users\\sunde\\.cache\\kagglehub\\datasets\\olistbr\\brazilian-ecommerce\\versions\\2\n"
     ]
    }
   ],
   "source": [
    "import kagglehub\n",
    "\n",
    "# Download latest version\n",
    "path = kagglehub.dataset_download(\"olistbr/brazilian-ecommerce\")\n",
    "print(\"Path to dataset files:\", path)"
   ]
  },
  {
   "cell_type": "code",
   "execution_count": 1,
   "id": "8c62e1fe",
   "metadata": {},
   "outputs": [],
   "source": [
    "import pandas as pd\n",
    "from sqlalchemy import create_engine,  text\n",
    "from sqlalchemy.exc import SQLAlchemyError\n",
    "from sqlalchemy.types import Integer, Float, String"
   ]
  },
  {
   "cell_type": "code",
   "execution_count": null,
   "id": "8b307560",
   "metadata": {},
   "outputs": [
    {
     "name": "stdout",
     "output_type": "stream",
     "text": [
      "Data has been written to the 'my_table' table in the 'txt2sql' database.\n"
     ]
    }
   ],
   "source": [
    "df = pd.read_csv('olist_customers_dataset.csv')  # Replace with your CSV file path\n",
    "\n",
    "# Step 2: Set up SQLAlchemy engine with your MySQL credentials\n",
    "engine = create_engine('mysql+mysqlconnector://root:<password>@localhost/txt2sql')\n",
    "\n",
    "# Step 3: Write the DataFrame to a new MySQL table\n",
    "df.to_sql(name='customer', con=engine, index=False, if_exists='replace')  # or 'append'\n",
    "\n",
    "print(\"Data has been written to the 'my_table' table in the 'txt2sql' database.\")"
   ]
  },
  {
   "cell_type": "code",
   "execution_count": null,
   "id": "0c3a3c26",
   "metadata": {},
   "outputs": [
    {
     "name": "stdout",
     "output_type": "stream",
     "text": [
      "Data has been written to the 'my_table' table in the 'txt2sql' database.\n"
     ]
    }
   ],
   "source": [
    "df = pd.read_csv('olist_order_items_dataset.csv')  # Replace with your CSV file path\n",
    "\n",
    "# Step 2: Set up SQLAlchemy engine with your MySQL credentials\n",
    "engine = create_engine('mysql+mysqlconnector://root:<password>@localhost/txt2sql')\n",
    "\n",
    "# Step 3: Write the DataFrame to a new MySQL table\n",
    "df.to_sql(name='order_items', con=engine, index=False, if_exists='replace')  # or 'append'\n",
    "\n",
    "print(\"Data has been written to the 'my_table' table in the 'txt2sql' database.\")"
   ]
  },
  {
   "cell_type": "code",
   "execution_count": null,
   "id": "9e82f509",
   "metadata": {},
   "outputs": [
    {
     "name": "stdout",
     "output_type": "stream",
     "text": [
      "Data has been written to the 'my_table' table in the 'txt2sql' database.\n"
     ]
    }
   ],
   "source": [
    "df = pd.read_csv('olist_order_payments_dataset.csv')  # Replace with your CSV file path\n",
    "\n",
    "# Step 2: Set up SQLAlchemy engine with your MySQL credentials\n",
    "engine = create_engine('mysql+mysqlconnector://root:<password>@localhost/txt2sql')\n",
    "\n",
    "# Step 3: Write the DataFrame to a new MySQL table\n",
    "df.to_sql(name='order_payments', con=engine, index=False, if_exists='replace')  # or 'append'\n",
    "\n",
    "print(\"Data has been written to the 'my_table' table in the 'txt2sql' database.\")"
   ]
  },
  {
   "cell_type": "code",
   "execution_count": null,
   "id": "2f72f6f4",
   "metadata": {},
   "outputs": [
    {
     "name": "stdout",
     "output_type": "stream",
     "text": [
      "Data has been written to the 'my_table' table in the 'txt2sql' database.\n"
     ]
    }
   ],
   "source": [
    "df = pd.read_csv('olist_order_reviews_dataset.csv')  # Replace with your CSV file path\n",
    "\n",
    "# Step 2: Set up SQLAlchemy engine with your MySQL credentials\n",
    "engine = create_engine('mysql+mysqlconnector://root:<password>@localhost/txt2sql')\n",
    "\n",
    "# Step 3: Write the DataFrame to a new MySQL table\n",
    "df.to_sql(name='order_reviews', con=engine, index=False, if_exists='replace')  # or 'append'\n",
    "\n",
    "print(\"Data has been written to the 'my_table' table in the 'txt2sql' database.\")"
   ]
  },
  {
   "cell_type": "code",
   "execution_count": null,
   "id": "47121c9b",
   "metadata": {},
   "outputs": [
    {
     "name": "stdout",
     "output_type": "stream",
     "text": [
      "Data has been written to the 'my_table' table in the 'txt2sql' database.\n"
     ]
    }
   ],
   "source": [
    "df = pd.read_csv('olist_orders_dataset.csv')  # Replace with your CSV file path\n",
    "\n",
    "# Step 2: Set up SQLAlchemy engine with your MySQL credentials\n",
    "engine = create_engine('mysql+mysqlconnector://root:<password>@localhost/txt2sql')\n",
    "\n",
    "# Step 3: Write the DataFrame to a new MySQL table\n",
    "df.to_sql(name='orders', con=engine, index=False, if_exists='replace')  # or 'append'\n",
    "\n",
    "print(\"Data has been written to the 'my_table' table in the 'txt2sql' database.\")"
   ]
  },
  {
   "cell_type": "code",
   "execution_count": null,
   "id": "2afb8d79",
   "metadata": {},
   "outputs": [
    {
     "name": "stdout",
     "output_type": "stream",
     "text": [
      "Data has been written to the 'my_table' table in the 'txt2sql' database.\n"
     ]
    }
   ],
   "source": [
    "df = pd.read_csv('olist_products_dataset.csv')  # Replace with your CSV file path\n",
    "\n",
    "# Step 2: Set up SQLAlchemy engine with your MySQL credentials\n",
    "engine = create_engine('mysql+mysqlconnector://root:<password>@localhost/txt2sql')\n",
    "\n",
    "# Step 3: Write the DataFrame to a new MySQL table\n",
    "df.to_sql(name='products', con=engine, index=False, if_exists='replace')  # or 'append'\n",
    "\n",
    "print(\"Data has been written to the 'my_table' table in the 'txt2sql' database.\")"
   ]
  },
  {
   "cell_type": "code",
   "execution_count": null,
   "id": "202d4449",
   "metadata": {},
   "outputs": [
    {
     "name": "stdout",
     "output_type": "stream",
     "text": [
      "Data has been written to the 'my_table' table in the 'txt2sql' database.\n"
     ]
    }
   ],
   "source": [
    "df = pd.read_csv('olist_sellers_dataset.csv')  # Replace with your CSV file path\n",
    "\n",
    "# Step 2: Set up SQLAlchemy engine with your MySQL credentials\n",
    "engine = create_engine('mysql+mysqlconnector://root:<password>@localhost/txt2sql')\n",
    "\n",
    "# Step 3: Write the DataFrame to a new MySQL table\n",
    "df.to_sql(name='sellers', con=engine, index=False, if_exists='replace')  # or 'append'\n",
    "\n",
    "print(\"Data has been written to the 'my_table' table in the 'txt2sql' database.\")"
   ]
  },
  {
   "cell_type": "code",
   "execution_count": null,
   "id": "350a3977",
   "metadata": {},
   "outputs": [
    {
     "name": "stdout",
     "output_type": "stream",
     "text": [
      "Data has been written to the 'my_table' table in the 'txt2sql' database.\n"
     ]
    }
   ],
   "source": [
    "df = pd.read_csv('product_category_name_translation.csv')  # Replace with your CSV file path\n",
    "\n",
    "# Step 2: Set up SQLAlchemy engine with your MySQL credentials\n",
    "engine = create_engine('mysql+mysqlconnector://root:<password>@localhost/txt2sql')\n",
    "\n",
    "# Step 3: Write the DataFrame to a new MySQL table\n",
    "df.to_sql(name='category_translation', con=engine, index=False, if_exists='replace')  # or 'append'\n",
    "\n",
    "print(\"Data has been written to the 'my_table' table in the 'txt2sql' database.\")"
   ]
  },
  {
   "cell_type": "markdown",
   "id": "db158252",
   "metadata": {},
   "source": [
    "### Indexes\n",
    "- Create below indexes so that joins are faster"
   ]
  },
  {
   "cell_type": "markdown",
   "id": "031ca3ab",
   "metadata": {},
   "source": [
    "'''CREATE INDEX idx_customer_id ON orders (customer_id(20));\n",
    "\n",
    "CREATE INDEX idx_order_id ON orders (order_id(20));\n",
    "\n",
    "ALTER TABLE orders\n",
    "MODIFY order_purchase_timestamp DATETIME;\n",
    "CREATE INDEX idx_order_purchase_timestamp ON orders (order_purchase_timestamp);\n",
    "\n",
    "CREATE INDEX idx_customer_id ON customer (customer_id(20));\n",
    "\n",
    "CREATE INDEX idx_order_items_order_id ON order_items (order_id(20));\n",
    "CREATE INDEX idx_order_items_product_id ON order_items (product_id(20));\n",
    "CREATE INDEX idx_order_items_seller_id ON order_items (seller_id(20));\n",
    "\n",
    "CREATE INDEX idx_seller_id ON sellers (seller_id(20));\n",
    "\n",
    "CREATE INDEX idx_product_id ON products (product_id(20));\n",
    "CREATE INDEX idx_product_category ON products (product_category_name(20));\n",
    "\n",
    "CREATE INDEX idx_order_reviews_order_id ON order_reviews (order_id(20));\n",
    "CREATE INDEX idx_review_score ON order_reviews (review_score);\n",
    "\n",
    "CREATE INDEX idx_order_payments_order_id ON order_payments (order_id(20));\n",
    "CREATE INDEX idx_payment_type ON order_payments (payment_type(20));\n",
    "\n",
    "CREATE INDEX idx_category_translation ON category_translation (product_category_name(20));'''"
   ]
  }
 ],
 "metadata": {
  "kernelspec": {
   "display_name": "base",
   "language": "python",
   "name": "python3"
  },
  "language_info": {
   "codemirror_mode": {
    "name": "ipython",
    "version": 3
   },
   "file_extension": ".py",
   "mimetype": "text/x-python",
   "name": "python",
   "nbconvert_exporter": "python",
   "pygments_lexer": "ipython3",
   "version": "3.12.4"
  }
 },
 "nbformat": 4,
 "nbformat_minor": 5
}
